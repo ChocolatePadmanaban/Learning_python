{
 "cells": [
  {
   "cell_type": "code",
   "execution_count": 2,
   "metadata": {},
   "outputs": [
    {
     "name": "stdout",
     "output_type": "stream",
     "text": [
      "Using matplotlib backend: Qt5Agg\n"
     ]
    },
    {
     "data": {
      "text/plain": [
       "[<matplotlib.lines.Line2D at 0x7fdd41416438>]"
      ]
     },
     "execution_count": 2,
     "metadata": {},
     "output_type": "execute_result"
    }
   ],
   "source": [
    "%matplotlib\n",
    "import matplotlib.pyplot as plt\n",
    "import numpy as np\n",
    "plt.plot(np.arange(10))"
   ]
  },
  {
   "cell_type": "code",
   "execution_count": 3,
   "metadata": {},
   "outputs": [],
   "source": [
    "import pandas as pd"
   ]
  },
  {
   "cell_type": "code",
   "execution_count": 4,
   "metadata": {},
   "outputs": [],
   "source": [
    "stocks = pd.Series([12,10,8,-6,4], index=[\n",
    "    'fennel','corriander','tamarid','pepper','cumin'\n",
    "])"
   ]
  },
  {
   "cell_type": "code",
   "execution_count": 5,
   "metadata": {},
   "outputs": [
    {
     "name": "stdout",
     "output_type": "stream",
     "text": [
      "safe\n"
     ]
    }
   ],
   "source": [
    "if stocks['tamarid']>5:\n",
    "    print('safe')\n",
    "else:\n",
    "    print(\"alerttttt\")"
   ]
  },
  {
   "cell_type": "code",
   "execution_count": 23,
   "metadata": {},
   "outputs": [
    {
     "name": "stdout",
     "output_type": "stream",
     "text": [
      "fennel        12\n",
      "corriander    10\n",
      "tamarid        8\n",
      "dtype: int64\n",
      "[12 10  8 -6  4]\n",
      "fennel        24\n",
      "corriander    20\n",
      "tamarid       16\n",
      "cumin          8\n",
      "dtype: int64\n"
     ]
    }
   ],
   "source": [
    "print(stocks[stocks>5])\n",
    "print(stocks.values)\n",
    "print(2*stocks[stocks>0])"
   ]
  },
  {
   "cell_type": "code",
   "execution_count": 25,
   "metadata": {},
   "outputs": [
    {
     "data": {
      "text/html": [
       "<div>\n",
       "<style scoped>\n",
       "    .dataframe tbody tr th:only-of-type {\n",
       "        vertical-align: middle;\n",
       "    }\n",
       "\n",
       "    .dataframe tbody tr th {\n",
       "        vertical-align: top;\n",
       "    }\n",
       "\n",
       "    .dataframe thead th {\n",
       "        text-align: right;\n",
       "    }\n",
       "</style>\n",
       "<table border=\"1\" class=\"dataframe\">\n",
       "  <thead>\n",
       "    <tr style=\"text-align: right;\">\n",
       "      <th></th>\n",
       "      <th>qty</th>\n",
       "      <th>fg</th>\n",
       "      <th>st</th>\n",
       "    </tr>\n",
       "  </thead>\n",
       "  <tbody>\n",
       "    <tr>\n",
       "      <th>98</th>\n",
       "      <td>12</td>\n",
       "      <td>wh</td>\n",
       "      <td>pb</td>\n",
       "    </tr>\n",
       "    <tr>\n",
       "      <th>99</th>\n",
       "      <td>11</td>\n",
       "      <td>pd</td>\n",
       "      <td>tn</td>\n",
       "    </tr>\n",
       "    <tr>\n",
       "      <th>2001</th>\n",
       "      <td>19</td>\n",
       "      <td>sq</td>\n",
       "      <td>mh</td>\n",
       "    </tr>\n",
       "    <tr>\n",
       "      <th>97</th>\n",
       "      <td>10</td>\n",
       "      <td>pd</td>\n",
       "      <td>ka</td>\n",
       "    </tr>\n",
       "    <tr>\n",
       "      <th>2002</th>\n",
       "      <td>15</td>\n",
       "      <td>wh</td>\n",
       "      <td>mh</td>\n",
       "    </tr>\n",
       "    <tr>\n",
       "      <th>2005</th>\n",
       "      <td>19</td>\n",
       "      <td>pd</td>\n",
       "      <td>wb</td>\n",
       "    </tr>\n",
       "  </tbody>\n",
       "</table>\n",
       "</div>"
      ],
      "text/plain": [
       "      qty  fg  st\n",
       "98     12  wh  pb\n",
       "99     11  pd  tn\n",
       "2001   19  sq  mh\n",
       "97     10  pd  ka\n",
       "2002   15  wh  mh\n",
       "2005   19  pd  wb"
      ]
     },
     "execution_count": 25,
     "metadata": {},
     "output_type": "execute_result"
    }
   ],
   "source": [
    "df = pd.DataFrame({'qty':[12,11,19,10,15,19],\n",
    "                  'fg': ['wh','pd','sq','pd','wh','pd'],\n",
    "                   'st':['pb','tn','mh','ka','mh','wb']\n",
    "                    },index =[98,99,2001,97,2002,2005])\n",
    "df"
   ]
  },
  {
   "cell_type": "code",
   "execution_count": 29,
   "metadata": {},
   "outputs": [
    {
     "name": "stdout",
     "output_type": "stream",
     "text": [
      "qty    12\n",
      "fg     wh\n",
      "st     pb\n",
      "Name: 98, dtype: object\n"
     ]
    }
   ],
   "source": [
    "print(df.loc[98])"
   ]
  },
  {
   "cell_type": "code",
   "execution_count": 9,
   "metadata": {},
   "outputs": [
    {
     "name": "stdout",
     "output_type": "stream",
     "text": [
      "0     pd\n",
      "1     pd\n",
      "2     pd\n",
      "3     pd\n",
      "4     wh\n",
      "5     wh\n",
      "6     wh\n",
      "7     wh\n",
      "8     sc\n",
      "9     sc\n",
      "10    sc\n",
      "dtype: object\n"
     ]
    }
   ],
   "source": [
    "obj = pd.Series(['pd','wh','sc'],index=[0,4,8])\n",
    "print(obj.reindex(range(11),method='ffill'))"
   ]
  },
  {
   "cell_type": "code",
   "execution_count": 12,
   "metadata": {},
   "outputs": [
    {
     "name": "stdout",
     "output_type": "stream",
     "text": [
      "2     pd\n",
      "7     wh\n",
      "10    sc\n",
      "dtype: object\n",
      "0     pd\n",
      "1     pd\n",
      "2     pd\n",
      "3     wh\n",
      "4     wh\n",
      "5     wh\n",
      "6     wh\n",
      "7     wh\n",
      "8     sc\n",
      "9     sc\n",
      "10    sc\n",
      "dtype: object\n"
     ]
    }
   ],
   "source": [
    "obj = pd.Series(['pd','wh','sc'],index=[2,7,10])\n",
    "print(obj)\n",
    "print(obj.reindex(range(11),method='bfill'))"
   ]
  },
  {
   "cell_type": "code",
   "execution_count": 13,
   "metadata": {},
   "outputs": [],
   "source": [
    "frame = pd.DataFrame(np.arange(9).reshape((3,3)),index=['a','b','c'])\n",
    "frame2 = frame.reindex(['a','b','c','d'])\n",
    "states = frame.reindex(['a','b','c','d'])"
   ]
  },
  {
   "cell_type": "code",
   "execution_count": 14,
   "metadata": {},
   "outputs": [
    {
     "name": "stdout",
     "output_type": "stream",
     "text": [
      "0      pd\n",
      "1      pd\n",
      "2      pd\n",
      "3     NaN\n",
      "4     NaN\n",
      "5      wh\n",
      "6      wh\n",
      "7      wh\n",
      "8      sc\n",
      "9      sc\n",
      "10     sc\n",
      "dtype: object\n"
     ]
    }
   ],
   "source": [
    "print(obj.reindex(range(11),method='bfill',limit=2))"
   ]
  },
  {
   "cell_type": "code",
   "execution_count": 16,
   "metadata": {},
   "outputs": [
    {
     "name": "stdout",
     "output_type": "stream",
     "text": [
      "\n",
      "Conform DataFrame to new index with optional filling logic, placing\n",
      "NA/NaN in locations having no value in the previous index. A new object\n",
      "is produced unless the new index is equivalent to the current one and\n",
      "copy=False\n",
      "\n",
      "Parameters\n",
      "----------\n",
      "labels : array-like, optional\n",
      "    New labels / index to conform the axis specified by 'axis' to.\n",
      "index, columns : array-like, optional (should be specified using keywords)\n",
      "    New labels / index to conform to. Preferably an Index object to\n",
      "    avoid duplicating data\n",
      "axis : int or str, optional\n",
      "    Axis to target. Can be either the axis name ('index', 'columns')\n",
      "    or number (0, 1).\n",
      "method : {None, 'backfill'/'bfill', 'pad'/'ffill', 'nearest'}, optional\n",
      "    method to use for filling holes in reindexed DataFrame.\n",
      "    Please note: this is only applicable to DataFrames/Series with a\n",
      "    monotonically increasing/decreasing index.\n",
      "\n",
      "    * default: don't fill gaps\n",
      "    * pad / ffill: propagate last valid observation forward to next\n",
      "      valid\n",
      "    * backfill / bfill: use next valid observation to fill gap\n",
      "    * nearest: use nearest valid observations to fill gap\n",
      "\n",
      "copy : boolean, default True\n",
      "    Return a new object, even if the passed indexes are the same\n",
      "level : int or name\n",
      "    Broadcast across a level, matching Index values on the\n",
      "    passed MultiIndex level\n",
      "fill_value : scalar, default np.NaN\n",
      "    Value to use for missing values. Defaults to NaN, but can be any\n",
      "    \"compatible\" value\n",
      "limit : int, default None\n",
      "    Maximum number of consecutive elements to forward or backward fill\n",
      "tolerance : optional\n",
      "    Maximum distance between original and new labels for inexact\n",
      "    matches. The values of the index at the matching locations most\n",
      "    satisfy the equation ``abs(index[indexer] - target) <= tolerance``.\n",
      "\n",
      "    Tolerance may be a scalar value, which applies the same tolerance\n",
      "    to all values, or list-like, which applies variable tolerance per\n",
      "    element. List-like includes list, tuple, array, Series, and must be\n",
      "    the same size as the index and its dtype must exactly match the\n",
      "    index's type.\n",
      "\n",
      "    .. versionadded:: 0.21.0 (list-like tolerance)\n",
      "\n",
      "Examples\n",
      "--------\n",
      "\n",
      "``DataFrame.reindex`` supports two calling conventions\n",
      "\n",
      "* ``(index=index_labels, columns=column_labels, ...)``\n",
      "* ``(labels, axis={'index', 'columns'}, ...)``\n",
      "\n",
      "We *highly* recommend using keyword arguments to clarify your\n",
      "intent.\n",
      "\n",
      "Create a dataframe with some fictional data.\n",
      "\n",
      ">>> index = ['Firefox', 'Chrome', 'Safari', 'IE10', 'Konqueror']\n",
      ">>> df = pd.DataFrame({\n",
      "...      'http_status': [200,200,404,404,301],\n",
      "...      'response_time': [0.04, 0.02, 0.07, 0.08, 1.0]},\n",
      "...       index=index)\n",
      ">>> df\n",
      "           http_status  response_time\n",
      "Firefox            200           0.04\n",
      "Chrome             200           0.02\n",
      "Safari             404           0.07\n",
      "IE10               404           0.08\n",
      "Konqueror          301           1.00\n",
      "\n",
      "Create a new index and reindex the dataframe. By default\n",
      "values in the new index that do not have corresponding\n",
      "records in the dataframe are assigned ``NaN``.\n",
      "\n",
      ">>> new_index= ['Safari', 'Iceweasel', 'Comodo Dragon', 'IE10',\n",
      "...             'Chrome']\n",
      ">>> df.reindex(new_index)\n",
      "               http_status  response_time\n",
      "Safari               404.0           0.07\n",
      "Iceweasel              NaN            NaN\n",
      "Comodo Dragon          NaN            NaN\n",
      "IE10                 404.0           0.08\n",
      "Chrome               200.0           0.02\n",
      "\n",
      "We can fill in the missing values by passing a value to\n",
      "the keyword ``fill_value``. Because the index is not monotonically\n",
      "increasing or decreasing, we cannot use arguments to the keyword\n",
      "``method`` to fill the ``NaN`` values.\n",
      "\n",
      ">>> df.reindex(new_index, fill_value=0)\n",
      "               http_status  response_time\n",
      "Safari                 404           0.07\n",
      "Iceweasel                0           0.00\n",
      "Comodo Dragon            0           0.00\n",
      "IE10                   404           0.08\n",
      "Chrome                 200           0.02\n",
      "\n",
      ">>> df.reindex(new_index, fill_value='missing')\n",
      "              http_status response_time\n",
      "Safari                404          0.07\n",
      "Iceweasel         missing       missing\n",
      "Comodo Dragon     missing       missing\n",
      "IE10                  404          0.08\n",
      "Chrome                200          0.02\n",
      "\n",
      "We can also reindex the columns.\n",
      "\n",
      ">>> df.reindex(columns=['http_status', 'user_agent'])\n",
      "           http_status  user_agent\n",
      "Firefox            200         NaN\n",
      "Chrome             200         NaN\n",
      "Safari             404         NaN\n",
      "IE10               404         NaN\n",
      "Konqueror          301         NaN\n",
      "\n",
      "Or we can use \"axis-style\" keyword arguments\n",
      "\n",
      ">>> df.reindex(['http_status', 'user_agent'], axis=\"columns\")\n",
      "           http_status  user_agent\n",
      "Firefox            200         NaN\n",
      "Chrome             200         NaN\n",
      "Safari             404         NaN\n",
      "IE10               404         NaN\n",
      "Konqueror          301         NaN\n",
      "\n",
      "To further illustrate the filling functionality in\n",
      "``reindex``, we will create a dataframe with a\n",
      "monotonically increasing index (for example, a sequence\n",
      "of dates).\n",
      "\n",
      ">>> date_index = pd.date_range('1/1/2010', periods=6, freq='D')\n",
      ">>> df2 = pd.DataFrame({\"prices\": [100, 101, np.nan, 100, 89, 88]},\n",
      "...                    index=date_index)\n",
      ">>> df2\n",
      "            prices\n",
      "2010-01-01     100\n",
      "2010-01-02     101\n",
      "2010-01-03     NaN\n",
      "2010-01-04     100\n",
      "2010-01-05      89\n",
      "2010-01-06      88\n",
      "\n",
      "Suppose we decide to expand the dataframe to cover a wider\n",
      "date range.\n",
      "\n",
      ">>> date_index2 = pd.date_range('12/29/2009', periods=10, freq='D')\n",
      ">>> df2.reindex(date_index2)\n",
      "            prices\n",
      "2009-12-29     NaN\n",
      "2009-12-30     NaN\n",
      "2009-12-31     NaN\n",
      "2010-01-01     100\n",
      "2010-01-02     101\n",
      "2010-01-03     NaN\n",
      "2010-01-04     100\n",
      "2010-01-05      89\n",
      "2010-01-06      88\n",
      "2010-01-07     NaN\n",
      "\n",
      "The index entries that did not have a value in the original data frame\n",
      "(for example, '2009-12-29') are by default filled with ``NaN``.\n",
      "If desired, we can fill in the missing values using one of several\n",
      "options.\n",
      "\n",
      "For example, to backpropagate the last valid value to fill the ``NaN``\n",
      "values, pass ``bfill`` as an argument to the ``method`` keyword.\n",
      "\n",
      ">>> df2.reindex(date_index2, method='bfill')\n",
      "            prices\n",
      "2009-12-29     100\n",
      "2009-12-30     100\n",
      "2009-12-31     100\n",
      "2010-01-01     100\n",
      "2010-01-02     101\n",
      "2010-01-03     NaN\n",
      "2010-01-04     100\n",
      "2010-01-05      89\n",
      "2010-01-06      88\n",
      "2010-01-07     NaN\n",
      "\n",
      "Please note that the ``NaN`` value present in the original dataframe\n",
      "(at index value 2010-01-03) will not be filled by any of the\n",
      "value propagation schemes. This is because filling while reindexing\n",
      "does not look at dataframe values, but only compares the original and\n",
      "desired indexes. If you do want to fill in the ``NaN`` values present\n",
      "in the original dataframe, use the ``fillna()`` method.\n",
      "\n",
      "See the :ref:`user guide <basics.reindexing>` for more.\n",
      "\n",
      "Returns\n",
      "-------\n",
      "reindexed : DataFrame\n",
      "\n"
     ]
    }
   ],
   "source": [
    "print(df.reindex.__doc__)"
   ]
  },
  {
   "cell_type": "code",
   "execution_count": 17,
   "metadata": {},
   "outputs": [
    {
     "name": "stdout",
     "output_type": "stream",
     "text": [
      "      qty  st\n",
      "98     12  pb\n",
      "99     11  tn\n",
      "2001   19  mh\n",
      "97     10  ka\n",
      "2002   15  mh\n",
      "2005   19  wb\n"
     ]
    }
   ],
   "source": [
    "print(df.drop('fg',axis=1))"
   ]
  },
  {
   "cell_type": "code",
   "execution_count": 22,
   "metadata": {},
   "outputs": [
    {
     "name": "stdout",
     "output_type": "stream",
     "text": [
      "fennel        12\n",
      "corriander    10\n",
      "tamarid        8\n",
      "dtype: int64\n",
      "[12 10  8 -6  4]\n",
      "fennel        24\n",
      "corriander    20\n",
      "tamarid       16\n",
      "cumin          8\n",
      "dtype: int64\n"
     ]
    }
   ],
   "source": []
  },
  {
   "cell_type": "code",
   "execution_count": null,
   "metadata": {},
   "outputs": [],
   "source": []
  }
 ],
 "metadata": {
  "kernelspec": {
   "display_name": "Python 3",
   "language": "python",
   "name": "python3"
  },
  "language_info": {
   "codemirror_mode": {
    "name": "ipython",
    "version": 3
   },
   "file_extension": ".py",
   "mimetype": "text/x-python",
   "name": "python",
   "nbconvert_exporter": "python",
   "pygments_lexer": "ipython3",
   "version": "3.7.0"
  }
 },
 "nbformat": 4,
 "nbformat_minor": 2
}
