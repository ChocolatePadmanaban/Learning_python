{
 "cells": [
  {
   "cell_type": "code",
   "execution_count": 1,
   "metadata": {},
   "outputs": [
    {
     "name": "stdout",
     "output_type": "stream",
     "text": [
      "Hello world\n"
     ]
    }
   ],
   "source": [
    "print(\"Hello world\")"
   ]
  },
  {
   "cell_type": "markdown",
   "metadata": {},
   "source": [
    "the above is a Hello world program"
   ]
  },
  {
   "cell_type": "code",
   "execution_count": 4,
   "metadata": {},
   "outputs": [
    {
     "name": "stdout",
     "output_type": "stream",
     "text": [
      "[1, 2, 3, 4]\n"
     ]
    }
   ],
   "source": [
    "def file_wr(filename):\n",
    "    f= open(filename,'w')\n",
    "    lst = [1,2,3,4]\n",
    "    f.writelines(list(map(lambda x:str(x)+'\\n',lst)))\n",
    "    f.close()\n",
    "\n",
    "def file_rd(filename):\n",
    "    f=open(filename)\n",
    "    lst = f.readlines()\n",
    "    lst = [int(x.strip('\\n')) for x in lst]\n",
    "    print(lst)\n",
    "    f.close()\n",
    "\n",
    "if __name__ == '__main__':\n",
    "    file_wr('output.txt')\n",
    "    file_rd('output.txt')"
   ]
  },
  {
   "cell_type": "code",
   "execution_count": 10,
   "metadata": {},
   "outputs": [
    {
     "name": "stdout",
     "output_type": "stream",
     "text": [
      "{'a': 6, 'b': 6, 'd': 1, 'c': 3, 'e': 4}\n"
     ]
    }
   ],
   "source": [
    "def dict_wr(filename, d1):\n",
    "    f= open(filename,'w')\n",
    "    for (k,v) in d1.items():\n",
    "        f.write(str(k)+\",\"+str(v)+\"\\n\")\n",
    "    f.close()\n",
    "    \n",
    "def dict_rd(filename):\n",
    "    f = open(filename)\n",
    "    content = list(map(lambda x:x.strip(),f.readlines()))\n",
    "    content = list(map(lambda x:x.split(','),content))\n",
    "    content = dict(map(lambda x:(x[0],int(x[1])),content))\n",
    "    print(content)\n",
    "grades = {'a':6,'b':6,'d':1,'c':3,'e':4}\n",
    "if __name__ == '__main__':\n",
    "    dict_wr('output_file.csv',grades)\n",
    "    dict_rd('output_file.csv')"
   ]
  },
  {
   "cell_type": "code",
   "execution_count": 8,
   "metadata": {},
   "outputs": [
    {
     "name": "stdout",
     "output_type": "stream",
     "text": [
      "The Zen of Python, by Tim Peters\n",
      "\n",
      "Beautiful is better than ugly.\n",
      "Explicit is better than implicit.\n",
      "Simple is better than complex.\n",
      "Complex is better than complicated.\n",
      "Flat is better than nested.\n",
      "Sparse is better than dense.\n",
      "Readability counts.\n",
      "Special cases aren't special enough to break the rules.\n",
      "Although practicality beats purity.\n",
      "Errors should never pass silently.\n",
      "Unless explicitly silenced.\n",
      "In the face of ambiguity, refuse the temptation to guess.\n",
      "There should be one-- and preferably only one --obvious way to do it.\n",
      "Although that way may not be obvious at first unless you're Dutch.\n",
      "Now is better than never.\n",
      "Although never is often better than *right* now.\n",
      "If the implementation is hard to explain, it's a bad idea.\n",
      "If the implementation is easy to explain, it may be a good idea.\n",
      "Namespaces are one honking great idea -- let's do more of those!\n"
     ]
    }
   ],
   "source": [
    "import this"
   ]
  },
  {
   "cell_type": "code",
   "execution_count": 17,
   "metadata": {},
   "outputs": [],
   "source": [
    "mydict ={'pnq': [12,11,15],\n",
    "        'mac':[43,76,89]}\n",
    "f = open('dump_data.csv','w')\n",
    "f.write(','.join(mydict.keys())+'\\n')\n",
    "i=0\n",
    "\n",
    "while i<len(mydict['pnq']):\n",
    "    f.write(str(mydict['pnq'][i])+','+str(mydict['mac'][i])+ '\\n')\n",
    "    i+=1\n",
    "f.close()"
   ]
  },
  {
   "cell_type": "code",
   "execution_count": 19,
   "metadata": {},
   "outputs": [],
   "source": [
    "import os"
   ]
  },
  {
   "cell_type": "code",
   "execution_count": null,
   "metadata": {},
   "outputs": [],
   "source": []
  },
  {
   "cell_type": "code",
   "execution_count": null,
   "metadata": {},
   "outputs": [],
   "source": []
  },
  {
   "cell_type": "code",
   "execution_count": null,
   "metadata": {},
   "outputs": [],
   "source": []
  },
  {
   "cell_type": "code",
   "execution_count": null,
   "metadata": {},
   "outputs": [],
   "source": []
  },
  {
   "cell_type": "code",
   "execution_count": null,
   "metadata": {},
   "outputs": [],
   "source": []
  },
  {
   "cell_type": "code",
   "execution_count": null,
   "metadata": {},
   "outputs": [],
   "source": []
  }
 ],
 "metadata": {
  "kernelspec": {
   "display_name": "Python 3",
   "language": "python",
   "name": "python3"
  },
  "language_info": {
   "codemirror_mode": {
    "name": "ipython",
    "version": 3
   },
   "file_extension": ".py",
   "mimetype": "text/x-python",
   "name": "python",
   "nbconvert_exporter": "python",
   "pygments_lexer": "ipython3",
   "version": "3.7.0"
  }
 },
 "nbformat": 4,
 "nbformat_minor": 2
}
